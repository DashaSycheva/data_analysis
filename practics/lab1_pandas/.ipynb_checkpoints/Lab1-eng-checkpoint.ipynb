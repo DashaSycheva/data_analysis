{
 "cells": [
  {
   "cell_type": "markdown",
   "metadata": {},
   "source": [
    "# Primary analysis and preprocessing of data with Pandas"
   ]
  },
  {
   "cell_type": "markdown",
   "metadata": {},
   "source": [
    "In this task, we will consider the primary analysis of data using real data about chocolate bars.\n",
    "\n",
    "The data contains attributes:\n",
    "* 'company' - manufacturer company\n",
    "* 'bar_name' - name of the chocolate bars\n",
    "* 'ref' - number\n",
    "* 'rew_date' - evaluation date\n",
    "* 'percent' - percentage of cocoa beans\n",
    "* 'company_loc' - company's location\n",
    "* 'rate '- rating\n",
    "* 'bean_dtype '- type of cocoa beans\n",
    "* 'bean_orig '- country of origin."
   ]
  },
  {
   "cell_type": "markdown",
   "metadata": {},
   "source": [
    "## Numerical Attributes"
   ]
  },
  {
   "cell_type": "code",
   "execution_count": null,
   "metadata": {
    "collapsed": true
   },
   "outputs": [],
   "source": [
    "import pandas as pd\n",
    "import numpy as np\n",
    "import matplotlib.pyplot as plt\n",
    "import time\n",
    "import seaborn as sns\n",
    "%matplotlib  inline\n",
    "sns.set(style='darkgrid')"
   ]
  },
  {
   "cell_type": "markdown",
   "metadata": {},
   "source": [
    "Read the data from the CSV file in which there are no headers"
   ]
  },
  {
   "cell_type": "code",
   "execution_count": null,
   "metadata": {
    "collapsed": true
   },
   "outputs": [],
   "source": [
    "best_bar= pd.read_csv('flavors_of_cacao.csv',\n",
    "                       sep=',', header=0, names=['company', 'bar_name','ref', 'rew_date', 'percent', 'company_loc', 'rate', 'bean_dtype', 'bean_orig'])"
   ]
  },
  {
   "cell_type": "code",
   "execution_count": null,
   "metadata": {
    "collapsed": true
   },
   "outputs": [],
   "source": [
    "type(best_bar)"
   ]
  },
  {
   "cell_type": "markdown",
   "metadata": {},
   "source": [
    "Leave only company's location, rating, percentage of cocoa beans and country of origin for further analysis."
   ]
  },
  {
   "cell_type": "code",
   "execution_count": null,
   "metadata": {
    "collapsed": true
   },
   "outputs": [],
   "source": [
    "best_bar = best_bar[['company_loc', 'rate', 'percent', 'bean_orig']]\n",
    "best_bar.head() "
   ]
  },
  {
   "cell_type": "markdown",
   "metadata": {},
   "source": [
    "Plot a histogram of distribution of bar's rating through plot() in which the number of columns is 20 (bins parametr). \n",
    "A histogram divides the variable into bins, counts the data points in each bin, and shows the bins on the x-axis and the counts on the y-axis. \n",
    "\n",
    "Plot a probability density function, which is constructed on the basis of an estimate of the continuous probability distribution. The histograms are approximated by a kernel's combination, i.e. more simple distributions, for example, normal (Gaussian). Therefore, the density estimate is also called kernel density estimation. You can plot kde graph using plot function with kind = 'kde' parameter."
   ]
  },
  {
   "cell_type": "code",
   "execution_count": null,
   "metadata": {
    "collapsed": true
   },
   "outputs": [],
   "source": [
    "# code here\n",
    "best_bar.rate.plot(kind='hist',bins = 20,title='Histogram of distribution of bar\\'s rating')"
   ]
  },
  {
   "cell_type": "markdown",
   "metadata": {},
   "source": [
    "Plot a distribution histogram for the percentage of cocoa beans. \n",
    "You need to preprocess this feature because it has the object type (strings). "
   ]
  },
  {
   "cell_type": "code",
   "execution_count": null,
   "metadata": {
    "collapsed": true
   },
   "outputs": [],
   "source": [
    "# code here\n"
   ]
  },
  {
   "cell_type": "markdown",
   "metadata": {},
   "source": [
    "Convert this attribute to float. Firstly you need to remove the '%' character at the end of each row in this column, and then convert it to float data type. You can use *.apply* with *axis=1* to send every single row to a function.\n",
    "We can see that '%' is the end of each string value. It means that we must take all symbols except the last one (it will be such slice [:-1]).\n",
    "\n",
    "best_bar['percent'] = best_bar['percent'].apply(lambda x: x[:-1])\n",
    "\n",
    "After removing '%' you should convert string value into float.\n",
    "\n",
    "best_bar['percent'] = best_bar['percent'].astype(float)"
   ]
  },
  {
   "cell_type": "code",
   "execution_count": null,
   "metadata": {
    "collapsed": true
   },
   "outputs": [],
   "source": [
    "# code here\n"
   ]
  },
  {
   "cell_type": "markdown",
   "metadata": {},
   "source": [
    "Plot box-and-whisker diagram for numerical attributes using the function *.boxplot()* from seaborn library or method of Pandas. Also use *.describe()* function for each distribution."
   ]
  },
  {
   "cell_type": "code",
   "execution_count": null,
   "metadata": {
    "collapsed": true
   },
   "outputs": [],
   "source": [
    "# code here\n"
   ]
  },
  {
   "cell_type": "markdown",
   "metadata": {},
   "source": [
    "## Categorical Attributes"
   ]
  },
  {
   "cell_type": "markdown",
   "metadata": {},
   "source": [
    "Let's pay attention to categorical attributes. You can't plot a distribution histogram, but you can use the *.value_counts()* function, which returns object containing counts of unique values in the attribute. \n",
    "\n",
    "Pay attention to the bean's countries of origin, which are rarely found in the dataset. \n",
    "The *.head()* and *.tail()* functions are used to output the start and end elements, respectively."
   ]
  },
  {
   "cell_type": "code",
   "execution_count": null,
   "metadata": {
    "collapsed": true
   },
   "outputs": [],
   "source": [
    "# code here\n"
   ]
  },
  {
   "cell_type": "markdown",
   "metadata": {},
   "source": [
    "After you got object containing counts of unique values, you can visualize their distribution using the *.plot(kind = 'bar')* function."
   ]
  },
  {
   "cell_type": "code",
   "execution_count": null,
   "metadata": {
    "collapsed": true
   },
   "outputs": [],
   "source": [
    "# code here\n"
   ]
  },
  {
   "cell_type": "markdown",
   "metadata": {},
   "source": [
    "According to the histogram of countries of origin distribution, we can see that there is chaos in the data. For some objects, the countries of origin are written with mistakes, some objects have missing data, and there are chocolate bars consisting of cocoa beans from different countries of origin. Because of that it is necessary to preprocess data for further analysis. \n",
    "\n",
    "Firstly, remove the objects with missing data using the *.dropna()* function.\n",
    "\n",
    "You need to use *'axis'* parametr, which can take values:\n",
    "* 0 : Drop rows which contain missing values.\n",
    "* 1 : Drop columns which contain missing value.\n",
    "\n",
    "and *'how'* parametr, where \n",
    "* 'any' : If any NA values are present, drop that row or column.\n",
    "* 'all' : If all values are NA, drop that row or column."
   ]
  },
  {
   "cell_type": "code",
   "execution_count": null,
   "metadata": {
    "collapsed": true
   },
   "outputs": [],
   "source": [
    "# code here\n"
   ]
  },
  {
   "cell_type": "markdown",
   "metadata": {},
   "source": [
    "Not all empty records from attribute was deleted. It means that empty records are not empty. \n",
    "\n",
    "Print all unique values of the *bean_orig* attribute using the *.unique()* function and find the value of the empty record."
   ]
  },
  {
   "cell_type": "code",
   "execution_count": null,
   "metadata": {
    "collapsed": true
   },
   "outputs": [],
   "source": [
    "# code here\n"
   ]
  },
  {
   "cell_type": "markdown",
   "metadata": {},
   "source": [
    "You can use the following construction to exclude this element: best_bar ['bean_orig']! = 'Element value', which returns a binary array of elements,\n",
    "where \n",
    "* True - the object's attribute doesn't take the 'element value', \n",
    "* False - it takes the 'element value'. \n",
    "\n",
    "Then the received binary array is transmitted as a mask, which tells what objects from our dataframe will be selected."
   ]
  },
  {
   "cell_type": "code",
   "execution_count": null,
   "metadata": {
    "collapsed": true,
    "scrolled": true
   },
   "outputs": [],
   "source": [
    "# code here\n"
   ]
  },
  {
   "cell_type": "markdown",
   "metadata": {},
   "source": [
    "In addition, it's necessary to solve the problem with bars consisting of different cocoa beans. The best way is to process and separate these compound beans. But in view of their small contribution, we'll make them one value named 'complex'. We will consider this country of origin as rare if there are not more than five such samples in the data."
   ]
  },
  {
   "cell_type": "code",
   "execution_count": null,
   "metadata": {
    "collapsed": true,
    "scrolled": true
   },
   "outputs": [],
   "source": [
    "# code here\n"
   ]
  },
  {
   "cell_type": "markdown",
   "metadata": {},
   "source": [
    "Plot a circular statistical diagram for company's location using the *.pie()* function."
   ]
  },
  {
   "cell_type": "code",
   "execution_count": null,
   "metadata": {
    "collapsed": true
   },
   "outputs": [],
   "source": [
    "# code here\n"
   ]
  },
  {
   "cell_type": "markdown",
   "metadata": {},
   "source": [
    "## Pairwise distributions"
   ]
  },
  {
   "cell_type": "code",
   "execution_count": 7,
   "metadata": {
    "collapsed": true
   },
   "outputs": [],
   "source": [
    "from sklearn import preprocessing\n",
    "from seaborn import pairplot"
   ]
  },
  {
   "cell_type": "markdown",
   "metadata": {},
   "source": [
    "Plot pairwise distributions for all attributes."
   ]
  },
  {
   "cell_type": "code",
   "execution_count": null,
   "metadata": {
    "collapsed": true
   },
   "outputs": [],
   "source": [
    "# code here\n"
   ]
  },
  {
   "cell_type": "markdown",
   "metadata": {},
   "source": [
    "Determine where the best cocoa beans grow, calculate the average value and median of the bar rating for each country of origin. Write the best three in both cases."
   ]
  },
  {
   "cell_type": "code",
   "execution_count": null,
   "metadata": {
    "collapsed": true
   },
   "outputs": [],
   "source": [
    "# code here\n"
   ]
  },
  {
   "cell_type": "markdown",
   "metadata": {},
   "source": [
    "Determine where the best chocolate bars are produced, calculate the average value and median bar score for each company's location. Write the top three in both cases."
   ]
  },
  {
   "cell_type": "code",
   "execution_count": null,
   "metadata": {
    "collapsed": true
   },
   "outputs": [],
   "source": [
    "# code here"
   ]
  }
 ],
 "metadata": {
  "kernelspec": {
   "display_name": "Python 3",
   "language": "python",
   "name": "python3"
  },
  "language_info": {
   "codemirror_mode": {
    "name": "ipython",
    "version": 3
   },
   "file_extension": ".py",
   "mimetype": "text/x-python",
   "name": "python",
   "nbconvert_exporter": "python",
   "pygments_lexer": "ipython3",
   "version": "3.6.5"
  }
 },
 "nbformat": 4,
 "nbformat_minor": 2
}
